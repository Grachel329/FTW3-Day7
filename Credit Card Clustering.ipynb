{
 "cells": [
  {
   "cell_type": "code",
   "execution_count": 155,
   "metadata": {
    "colab": {},
    "colab_type": "code",
    "id": "lc-uZ_ZhN44k"
   },
   "outputs": [],
   "source": [
    "import pandas as pd\n",
    "import numpy as np\n",
    "import matplotlib.pyplot as plt\n",
    "import seaborn as sns\n",
    "\n",
    "from sklearn.cluster import KMeans"
   ]
  },
  {
   "cell_type": "markdown",
   "metadata": {
    "colab_type": "text",
    "id": "LheBPT9zOi03"
   },
   "source": [
    "### Load Data"
   ]
  },
  {
   "cell_type": "code",
   "execution_count": 156,
   "metadata": {
    "colab": {},
    "colab_type": "code",
    "id": "JXDvb0xDOQ98"
   },
   "outputs": [],
   "source": [
    "data = pd.read_csv(\"credit_card_clustering.csv\")"
   ]
  },
  {
   "cell_type": "code",
   "execution_count": 157,
   "metadata": {
    "colab": {
     "base_uri": "https://localhost:8080/",
     "height": 204
    },
    "colab_type": "code",
    "id": "riPA2EWpOUZa",
    "outputId": "d94bbee8-b995-4af7-e413-bbe596f20d38"
   },
   "outputs": [
    {
     "data": {
      "text/html": [
       "<div>\n",
       "<style scoped>\n",
       "    .dataframe tbody tr th:only-of-type {\n",
       "        vertical-align: middle;\n",
       "    }\n",
       "\n",
       "    .dataframe tbody tr th {\n",
       "        vertical-align: top;\n",
       "    }\n",
       "\n",
       "    .dataframe thead th {\n",
       "        text-align: right;\n",
       "    }\n",
       "</style>\n",
       "<table border=\"1\" class=\"dataframe\">\n",
       "  <thead>\n",
       "    <tr style=\"text-align: right;\">\n",
       "      <th></th>\n",
       "      <th>CUST_ID</th>\n",
       "      <th>BALANCE</th>\n",
       "      <th>BALANCE_FREQUENCY</th>\n",
       "      <th>PURCHASES</th>\n",
       "      <th>ONEOFF_PURCHASES</th>\n",
       "      <th>INSTALLMENTS_PURCHASES</th>\n",
       "      <th>CASH_ADVANCE</th>\n",
       "      <th>PURCHASES_FREQUENCY</th>\n",
       "      <th>ONEOFF_PURCHASES_FREQUENCY</th>\n",
       "      <th>PURCHASES_INSTALLMENTS_FREQUENCY</th>\n",
       "      <th>CASH_ADVANCE_FREQUENCY</th>\n",
       "      <th>CASH_ADVANCE_TRX</th>\n",
       "      <th>PURCHASES_TRX</th>\n",
       "      <th>CREDIT_LIMIT</th>\n",
       "      <th>PAYMENTS</th>\n",
       "      <th>MINIMUM_PAYMENTS</th>\n",
       "      <th>PRC_FULL_PAYMENT</th>\n",
       "      <th>TENURE</th>\n",
       "    </tr>\n",
       "  </thead>\n",
       "  <tbody>\n",
       "    <tr>\n",
       "      <td>0</td>\n",
       "      <td>C10001</td>\n",
       "      <td>40.900749</td>\n",
       "      <td>0.818182</td>\n",
       "      <td>95.40</td>\n",
       "      <td>0.00</td>\n",
       "      <td>95.4</td>\n",
       "      <td>0.000000</td>\n",
       "      <td>0.166667</td>\n",
       "      <td>0.000000</td>\n",
       "      <td>0.083333</td>\n",
       "      <td>0.000000</td>\n",
       "      <td>0</td>\n",
       "      <td>2</td>\n",
       "      <td>1000.0</td>\n",
       "      <td>201.802084</td>\n",
       "      <td>139.509787</td>\n",
       "      <td>0.000000</td>\n",
       "      <td>12</td>\n",
       "    </tr>\n",
       "    <tr>\n",
       "      <td>1</td>\n",
       "      <td>C10002</td>\n",
       "      <td>3202.467416</td>\n",
       "      <td>0.909091</td>\n",
       "      <td>0.00</td>\n",
       "      <td>0.00</td>\n",
       "      <td>0.0</td>\n",
       "      <td>6442.945483</td>\n",
       "      <td>0.000000</td>\n",
       "      <td>0.000000</td>\n",
       "      <td>0.000000</td>\n",
       "      <td>0.250000</td>\n",
       "      <td>4</td>\n",
       "      <td>0</td>\n",
       "      <td>7000.0</td>\n",
       "      <td>4103.032597</td>\n",
       "      <td>1072.340217</td>\n",
       "      <td>0.222222</td>\n",
       "      <td>12</td>\n",
       "    </tr>\n",
       "    <tr>\n",
       "      <td>2</td>\n",
       "      <td>C10003</td>\n",
       "      <td>2495.148862</td>\n",
       "      <td>1.000000</td>\n",
       "      <td>773.17</td>\n",
       "      <td>773.17</td>\n",
       "      <td>0.0</td>\n",
       "      <td>0.000000</td>\n",
       "      <td>1.000000</td>\n",
       "      <td>1.000000</td>\n",
       "      <td>0.000000</td>\n",
       "      <td>0.000000</td>\n",
       "      <td>0</td>\n",
       "      <td>12</td>\n",
       "      <td>7500.0</td>\n",
       "      <td>622.066742</td>\n",
       "      <td>627.284787</td>\n",
       "      <td>0.000000</td>\n",
       "      <td>12</td>\n",
       "    </tr>\n",
       "    <tr>\n",
       "      <td>3</td>\n",
       "      <td>C10004</td>\n",
       "      <td>1666.670542</td>\n",
       "      <td>0.636364</td>\n",
       "      <td>1499.00</td>\n",
       "      <td>1499.00</td>\n",
       "      <td>0.0</td>\n",
       "      <td>205.788017</td>\n",
       "      <td>0.083333</td>\n",
       "      <td>0.083333</td>\n",
       "      <td>0.000000</td>\n",
       "      <td>0.083333</td>\n",
       "      <td>1</td>\n",
       "      <td>1</td>\n",
       "      <td>7500.0</td>\n",
       "      <td>0.000000</td>\n",
       "      <td>NaN</td>\n",
       "      <td>0.000000</td>\n",
       "      <td>12</td>\n",
       "    </tr>\n",
       "    <tr>\n",
       "      <td>4</td>\n",
       "      <td>C10005</td>\n",
       "      <td>817.714335</td>\n",
       "      <td>1.000000</td>\n",
       "      <td>16.00</td>\n",
       "      <td>16.00</td>\n",
       "      <td>0.0</td>\n",
       "      <td>0.000000</td>\n",
       "      <td>0.083333</td>\n",
       "      <td>0.083333</td>\n",
       "      <td>0.000000</td>\n",
       "      <td>0.000000</td>\n",
       "      <td>0</td>\n",
       "      <td>1</td>\n",
       "      <td>1200.0</td>\n",
       "      <td>678.334763</td>\n",
       "      <td>244.791237</td>\n",
       "      <td>0.000000</td>\n",
       "      <td>12</td>\n",
       "    </tr>\n",
       "  </tbody>\n",
       "</table>\n",
       "</div>"
      ],
      "text/plain": [
       "  CUST_ID      BALANCE  BALANCE_FREQUENCY  PURCHASES  ONEOFF_PURCHASES  \\\n",
       "0  C10001    40.900749           0.818182      95.40              0.00   \n",
       "1  C10002  3202.467416           0.909091       0.00              0.00   \n",
       "2  C10003  2495.148862           1.000000     773.17            773.17   \n",
       "3  C10004  1666.670542           0.636364    1499.00           1499.00   \n",
       "4  C10005   817.714335           1.000000      16.00             16.00   \n",
       "\n",
       "   INSTALLMENTS_PURCHASES  CASH_ADVANCE  PURCHASES_FREQUENCY  \\\n",
       "0                    95.4      0.000000             0.166667   \n",
       "1                     0.0   6442.945483             0.000000   \n",
       "2                     0.0      0.000000             1.000000   \n",
       "3                     0.0    205.788017             0.083333   \n",
       "4                     0.0      0.000000             0.083333   \n",
       "\n",
       "   ONEOFF_PURCHASES_FREQUENCY  PURCHASES_INSTALLMENTS_FREQUENCY  \\\n",
       "0                    0.000000                          0.083333   \n",
       "1                    0.000000                          0.000000   \n",
       "2                    1.000000                          0.000000   \n",
       "3                    0.083333                          0.000000   \n",
       "4                    0.083333                          0.000000   \n",
       "\n",
       "   CASH_ADVANCE_FREQUENCY  CASH_ADVANCE_TRX  PURCHASES_TRX  CREDIT_LIMIT  \\\n",
       "0                0.000000                 0              2        1000.0   \n",
       "1                0.250000                 4              0        7000.0   \n",
       "2                0.000000                 0             12        7500.0   \n",
       "3                0.083333                 1              1        7500.0   \n",
       "4                0.000000                 0              1        1200.0   \n",
       "\n",
       "      PAYMENTS  MINIMUM_PAYMENTS  PRC_FULL_PAYMENT  TENURE  \n",
       "0   201.802084        139.509787          0.000000      12  \n",
       "1  4103.032597       1072.340217          0.222222      12  \n",
       "2   622.066742        627.284787          0.000000      12  \n",
       "3     0.000000               NaN          0.000000      12  \n",
       "4   678.334763        244.791237          0.000000      12  "
      ]
     },
     "execution_count": 157,
     "metadata": {},
     "output_type": "execute_result"
    }
   ],
   "source": [
    "data.head()"
   ]
  },
  {
   "cell_type": "markdown",
   "metadata": {
    "colab_type": "text",
    "id": "UTTRZFQJQmXC"
   },
   "source": [
    "# Exploratory Data Analysis"
   ]
  },
  {
   "cell_type": "markdown",
   "metadata": {
    "colab_type": "text",
    "id": "qvz1x9KfO3jt"
   },
   "source": [
    "### How many rows/columns are there?"
   ]
  },
  {
   "cell_type": "code",
   "execution_count": 158,
   "metadata": {
    "colab": {
     "base_uri": "https://localhost:8080/",
     "height": 34
    },
    "colab_type": "code",
    "id": "DWzrWlMaO5_j",
    "outputId": "aaf47af9-6264-4ac1-ef6e-986eff1f6806"
   },
   "outputs": [
    {
     "data": {
      "text/plain": [
       "(8950, 18)"
      ]
     },
     "execution_count": 158,
     "metadata": {},
     "output_type": "execute_result"
    }
   ],
   "source": [
    "data.shape"
   ]
  },
  {
   "cell_type": "markdown",
   "metadata": {
    "colab_type": "text",
    "id": "0pxHHHgNOWGR"
   },
   "source": [
    "### How many customers are there?"
   ]
  },
  {
   "cell_type": "code",
   "execution_count": 159,
   "metadata": {
    "colab": {
     "base_uri": "https://localhost:8080/",
     "height": 34
    },
    "colab_type": "code",
    "id": "9ZmesyD9Onuq",
    "outputId": "f18432d0-8396-46f8-f0f7-882788c98b38"
   },
   "outputs": [
    {
     "data": {
      "text/plain": [
       "8950"
      ]
     },
     "execution_count": 159,
     "metadata": {},
     "output_type": "execute_result"
    }
   ],
   "source": [
    "data['CUST_ID'].nunique()"
   ]
  },
  {
   "cell_type": "markdown",
   "metadata": {},
   "source": [
    "We have 8950 unique customer IDs."
   ]
  },
  {
   "cell_type": "markdown",
   "metadata": {},
   "source": [
    "### How many customers belong to each tenure set?"
   ]
  },
  {
   "cell_type": "code",
   "execution_count": 160,
   "metadata": {},
   "outputs": [
    {
     "data": {
      "text/plain": [
       "12    7584\n",
       "11     365\n",
       "10     236\n",
       "6      204\n",
       "8      196\n",
       "7      190\n",
       "9      175\n",
       "Name: TENURE, dtype: int64"
      ]
     },
     "execution_count": 160,
     "metadata": {},
     "output_type": "execute_result"
    }
   ],
   "source": [
    "data['TENURE'].value_counts()"
   ]
  },
  {
   "cell_type": "markdown",
   "metadata": {
    "colab_type": "text",
    "id": "mLflskPqPQbO"
   },
   "source": [
    "### How does the balance distribution of the customers look like?"
   ]
  },
  {
   "cell_type": "code",
   "execution_count": 161,
   "metadata": {
    "colab": {
     "base_uri": "https://localhost:8080/",
     "height": 272
    },
    "colab_type": "code",
    "id": "A0vs8-PiPcYN",
    "outputId": "e3fe23b1-bc24-4003-8018-cef900781ea1"
   },
   "outputs": [
    {
     "data": {
      "text/plain": [
       "count     8950.000000\n",
       "mean      1564.474828\n",
       "std       2081.531879\n",
       "min          0.000000\n",
       "10%         23.575529\n",
       "20%         77.238026\n",
       "30%        207.176552\n",
       "40%        467.021989\n",
       "50%        873.385231\n",
       "60%       1207.815587\n",
       "70%       1698.588855\n",
       "80%       2571.434263\n",
       "90%       4338.563657\n",
       "max      19043.138560\n",
       "Name: BALANCE, dtype: float64"
      ]
     },
     "execution_count": 161,
     "metadata": {},
     "output_type": "execute_result"
    }
   ],
   "source": [
    "data['BALANCE'].describe(np.arange(0.1, 1, 0.1))"
   ]
  },
  {
   "cell_type": "markdown",
   "metadata": {},
   "source": [
    "The balance ranges from 0 to 19043.138560 with median=873.385231 and mean=1564.474828."
   ]
  },
  {
   "cell_type": "code",
   "execution_count": 162,
   "metadata": {},
   "outputs": [
    {
     "data": {
      "text/plain": [
       "<matplotlib.axes._subplots.AxesSubplot at 0x23ad7c0ac48>"
      ]
     },
     "execution_count": 162,
     "metadata": {},
     "output_type": "execute_result"
    },
    {
     "data": {
      "image/png": "[encoded data removed]",
      "text/plain": [
       "<Figure size 432x288 with 1 Axes>"
      ]
     },
     "metadata": {
      "needs_background": "light"
     },
     "output_type": "display_data"
    }
   ],
   "source": [
    "sns.distplot(data['BALANCE'], kde=False)"
   ]
  },
  {
   "cell_type": "markdown",
   "metadata": {},
   "source": [
    "The balance distribution is skewed to the right."
   ]
  },
  {
   "cell_type": "markdown",
   "metadata": {},
   "source": [
    "### How does the cash advance distribution of the customers look like?"
   ]
  },
  {
   "cell_type": "code",
   "execution_count": 163,
   "metadata": {},
   "outputs": [
    {
     "data": {
      "text/plain": [
       "count     8950.000000\n",
       "mean       978.871112\n",
       "std       2097.163877\n",
       "min          0.000000\n",
       "10%          0.000000\n",
       "20%          0.000000\n",
       "30%          0.000000\n",
       "40%          0.000000\n",
       "50%          0.000000\n",
       "60%        238.633724\n",
       "70%        797.272297\n",
       "80%       1574.933778\n",
       "90%       3065.534560\n",
       "max      47137.211760\n",
       "Name: CASH_ADVANCE, dtype: float64"
      ]
     },
     "execution_count": 163,
     "metadata": {},
     "output_type": "execute_result"
    }
   ],
   "source": [
    "data['CASH_ADVANCE'].describe(np.arange(0.1, 1, 0.1))"
   ]
  },
  {
   "cell_type": "markdown",
   "metadata": {},
   "source": [
    "The cash advance ranges from 0 to 47137.211760 with median= 0 and mean=978.871112."
   ]
  },
  {
   "cell_type": "code",
   "execution_count": 164,
   "metadata": {},
   "outputs": [
    {
     "data": {
      "text/plain": [
       "<matplotlib.axes._subplots.AxesSubplot at 0x23ad78b91c8>"
      ]
     },
     "execution_count": 164,
     "metadata": {},
     "output_type": "execute_result"
    },
    {
     "data": {
      "image/png": "[encoded data removed]",
      "text/plain": [
       "<Figure size 432x288 with 1 Axes>"
      ]
     },
     "metadata": {
      "needs_background": "light"
     },
     "output_type": "display_data"
    }
   ],
   "source": [
    "sns.distplot(data['CASH_ADVANCE'], kde=False)"
   ]
  },
  {
   "cell_type": "markdown",
   "metadata": {},
   "source": [
    "The cash advance distribution is skewed to the right."
   ]
  },
  {
   "cell_type": "markdown",
   "metadata": {},
   "source": [
    "### How does the purchases frequency distribution of the customers look like?"
   ]
  },
  {
   "cell_type": "code",
   "execution_count": 165,
   "metadata": {},
   "outputs": [
    {
     "data": {
      "text/plain": [
       "count    8950.000000\n",
       "mean        0.490351\n",
       "std         0.401371\n",
       "min         0.000000\n",
       "10%         0.000000\n",
       "20%         0.000000\n",
       "30%         0.083333\n",
       "40%         0.250000\n",
       "50%         0.500000\n",
       "60%         0.666667\n",
       "70%         0.857143\n",
       "80%         1.000000\n",
       "90%         1.000000\n",
       "max         1.000000\n",
       "Name: PURCHASES_FREQUENCY, dtype: float64"
      ]
     },
     "execution_count": 165,
     "metadata": {},
     "output_type": "execute_result"
    }
   ],
   "source": [
    "data['PURCHASES_FREQUENCY'].describe(np.arange(0.1, 1, 0.1))"
   ]
  },
  {
   "cell_type": "markdown",
   "metadata": {},
   "source": [
    "The purchase frequency ranges from 0 to 1 with median=0.5 and mean=0.490351."
   ]
  },
  {
   "cell_type": "code",
   "execution_count": 166,
   "metadata": {},
   "outputs": [
    {
     "data": {
      "text/plain": [
       "<matplotlib.axes._subplots.AxesSubplot at 0x23ad7a2cd08>"
      ]
     },
     "execution_count": 166,
     "metadata": {},
     "output_type": "execute_result"
    },
    {
     "data": {
      "image/png": "[encoded data removed]",
      "text/plain": [
       "<Figure size 432x288 with 1 Axes>"
      ]
     },
     "metadata": {
      "needs_background": "light"
     },
     "output_type": "display_data"
    }
   ],
   "source": [
    "sns.distplot(data['PURCHASES_FREQUENCY'], kde=False)"
   ]
  },
  {
   "cell_type": "markdown",
   "metadata": {
    "colab_type": "text",
    "id": "43REfwTpPhQh"
   },
   "source": [
    "The annual income ranges from 15 to 137 with an average (median) annual income is 61 k$."
   ]
  },
  {
   "cell_type": "markdown",
   "metadata": {
    "colab_type": "text",
    "id": "rulXVROOQktg"
   },
   "source": [
    "# Clustering"
   ]
  },
  {
   "cell_type": "code",
   "execution_count": 167,
   "metadata": {
    "colab": {
     "base_uri": "https://localhost:8080/",
     "height": 204
    },
    "colab_type": "code",
    "id": "8IL-NAPHXfqY",
    "outputId": "a4942389-b46c-40a8-8df8-9b0ee2d27d20"
   },
   "outputs": [
    {
     "data": {
      "text/html": [
       "<div>\n",
       "<style scoped>\n",
       "    .dataframe tbody tr th:only-of-type {\n",
       "        vertical-align: middle;\n",
       "    }\n",
       "\n",
       "    .dataframe tbody tr th {\n",
       "        vertical-align: top;\n",
       "    }\n",
       "\n",
       "    .dataframe thead th {\n",
       "        text-align: right;\n",
       "    }\n",
       "</style>\n",
       "<table border=\"1\" class=\"dataframe\">\n",
       "  <thead>\n",
       "    <tr style=\"text-align: right;\">\n",
       "      <th></th>\n",
       "      <th>BALANCE</th>\n",
       "      <th>CASH_ADVANCE</th>\n",
       "      <th>PAYMENTS</th>\n",
       "    </tr>\n",
       "  </thead>\n",
       "  <tbody>\n",
       "    <tr>\n",
       "      <td>0</td>\n",
       "      <td>40.900749</td>\n",
       "      <td>0.000000</td>\n",
       "      <td>201.802084</td>\n",
       "    </tr>\n",
       "    <tr>\n",
       "      <td>1</td>\n",
       "      <td>3202.467416</td>\n",
       "      <td>6442.945483</td>\n",
       "      <td>4103.032597</td>\n",
       "    </tr>\n",
       "    <tr>\n",
       "      <td>2</td>\n",
       "      <td>2495.148862</td>\n",
       "      <td>0.000000</td>\n",
       "      <td>622.066742</td>\n",
       "    </tr>\n",
       "    <tr>\n",
       "      <td>3</td>\n",
       "      <td>1666.670542</td>\n",
       "      <td>205.788017</td>\n",
       "      <td>0.000000</td>\n",
       "    </tr>\n",
       "    <tr>\n",
       "      <td>4</td>\n",
       "      <td>817.714335</td>\n",
       "      <td>0.000000</td>\n",
       "      <td>678.334763</td>\n",
       "    </tr>\n",
       "    <tr>\n",
       "      <td>...</td>\n",
       "      <td>...</td>\n",
       "      <td>...</td>\n",
       "      <td>...</td>\n",
       "    </tr>\n",
       "    <tr>\n",
       "      <td>8945</td>\n",
       "      <td>28.493517</td>\n",
       "      <td>0.000000</td>\n",
       "      <td>325.594462</td>\n",
       "    </tr>\n",
       "    <tr>\n",
       "      <td>8946</td>\n",
       "      <td>19.183215</td>\n",
       "      <td>0.000000</td>\n",
       "      <td>275.861322</td>\n",
       "    </tr>\n",
       "    <tr>\n",
       "      <td>8947</td>\n",
       "      <td>23.398673</td>\n",
       "      <td>0.000000</td>\n",
       "      <td>81.270775</td>\n",
       "    </tr>\n",
       "    <tr>\n",
       "      <td>8948</td>\n",
       "      <td>13.457564</td>\n",
       "      <td>36.558778</td>\n",
       "      <td>52.549959</td>\n",
       "    </tr>\n",
       "    <tr>\n",
       "      <td>8949</td>\n",
       "      <td>372.708075</td>\n",
       "      <td>127.040008</td>\n",
       "      <td>63.165404</td>\n",
       "    </tr>\n",
       "  </tbody>\n",
       "</table>\n",
       "<p>8950 rows × 3 columns</p>\n",
       "</div>"
      ],
      "text/plain": [
       "          BALANCE  CASH_ADVANCE     PAYMENTS\n",
       "0       40.900749      0.000000   201.802084\n",
       "1     3202.467416   6442.945483  4103.032597\n",
       "2     2495.148862      0.000000   622.066742\n",
       "3     1666.670542    205.788017     0.000000\n",
       "4      817.714335      0.000000   678.334763\n",
       "...           ...           ...          ...\n",
       "8945    28.493517      0.000000   325.594462\n",
       "8946    19.183215      0.000000   275.861322\n",
       "8947    23.398673      0.000000    81.270775\n",
       "8948    13.457564     36.558778    52.549959\n",
       "8949   372.708075    127.040008    63.165404\n",
       "\n",
       "[8950 rows x 3 columns]"
      ]
     },
     "execution_count": 167,
     "metadata": {},
     "output_type": "execute_result"
    }
   ],
   "source": [
    "# Get features we need\n",
    "features = ['BALANCE', 'CASH_ADVANCE', 'PAYMENTS']\n",
    "X = data[features]\n",
    "\n",
    "X"
   ]
  },
  {
   "cell_type": "markdown",
   "metadata": {
    "colab_type": "text",
    "id": "cYdb620Teh-4"
   },
   "source": [
    "### Choosing Optimal *k*"
   ]
  },
  {
   "cell_type": "code",
   "execution_count": 168,
   "metadata": {
    "colab": {
     "base_uri": "https://localhost:8080/",
     "height": 282
    },
    "colab_type": "code",
    "id": "qe3aWEI0ehjG",
    "outputId": "88792cfa-8617-493b-e159-23226f81b699"
   },
   "outputs": [
    {
     "data": {
      "text/plain": [
       "[<matplotlib.lines.Line2D at 0x23ad7add7c8>]"
      ]
     },
     "execution_count": 168,
     "metadata": {},
     "output_type": "execute_result"
    },
    {
     "data": {
      "image/png": "[encoded data removed]",
      "text/plain": [
       "<Figure size 432x288 with 1 Axes>"
      ]
     },
     "metadata": {
      "needs_background": "light"
     },
     "output_type": "display_data"
    }
   ],
   "source": [
    "# get the sum of squared errors and find where the reduction of the errors are saturated with the increase of k\n",
    "squared_errors = []\n",
    "\n",
    "for num_iter in range(1,16):\n",
    "  km = KMeans(n_clusters=num_iter, random_state=42)\n",
    "  km.fit(X)\n",
    "  squared_errors.append(km.inertia_)\n",
    "\n",
    "# check for the best k to use\n",
    "plt.plot(squared_errors, marker = 'o')"
   ]
  },
  {
   "cell_type": "markdown",
   "metadata": {
    "colab_type": "text",
    "id": "ZYTzOIoVerNG"
   },
   "source": [
    "Using the elbow method, I decided to use *k=4*."
   ]
  },
  {
   "cell_type": "code",
   "execution_count": 169,
   "metadata": {
    "colab": {},
    "colab_type": "code",
    "id": "l8QUoI4DX7Nf"
   },
   "outputs": [],
   "source": [
    "# Clustering using KMeans. We choose 5 clusters\n",
    "km = KMeans(n_clusters = 4, random_state = 42)\n",
    "\n",
    "# Fit data to model\n",
    "km.fit(X)\n",
    "\n",
    "# Get labels\n",
    "labels = km.predict(X)\n",
    "\n",
    "# Create new dataframe with features and labels\n",
    "new_data = X.copy()\n",
    "\n",
    "# Add labels to new_data dataframe\n",
    "new_data['labels'] = labels"
   ]
  },
  {
   "cell_type": "code",
   "execution_count": 170,
   "metadata": {
    "colab": {
     "base_uri": "https://localhost:8080/",
     "height": 204
    },
    "colab_type": "code",
    "id": "1gCNHjXlZQBo",
    "outputId": "5bd5db80-45ab-437c-f44c-5a9d9cbb6b78"
   },
   "outputs": [
    {
     "data": {
      "text/html": [
       "<div>\n",
       "<style scoped>\n",
       "    .dataframe tbody tr th:only-of-type {\n",
       "        vertical-align: middle;\n",
       "    }\n",
       "\n",
       "    .dataframe tbody tr th {\n",
       "        vertical-align: top;\n",
       "    }\n",
       "\n",
       "    .dataframe thead th {\n",
       "        text-align: right;\n",
       "    }\n",
       "</style>\n",
       "<table border=\"1\" class=\"dataframe\">\n",
       "  <thead>\n",
       "    <tr style=\"text-align: right;\">\n",
       "      <th></th>\n",
       "      <th>BALANCE</th>\n",
       "      <th>CASH_ADVANCE</th>\n",
       "      <th>PAYMENTS</th>\n",
       "      <th>labels</th>\n",
       "    </tr>\n",
       "  </thead>\n",
       "  <tbody>\n",
       "    <tr>\n",
       "      <td>0</td>\n",
       "      <td>40.900749</td>\n",
       "      <td>0.000000</td>\n",
       "      <td>201.802084</td>\n",
       "      <td>1</td>\n",
       "    </tr>\n",
       "    <tr>\n",
       "      <td>1</td>\n",
       "      <td>3202.467416</td>\n",
       "      <td>6442.945483</td>\n",
       "      <td>4103.032597</td>\n",
       "      <td>0</td>\n",
       "    </tr>\n",
       "    <tr>\n",
       "      <td>2</td>\n",
       "      <td>2495.148862</td>\n",
       "      <td>0.000000</td>\n",
       "      <td>622.066742</td>\n",
       "      <td>1</td>\n",
       "    </tr>\n",
       "    <tr>\n",
       "      <td>3</td>\n",
       "      <td>1666.670542</td>\n",
       "      <td>205.788017</td>\n",
       "      <td>0.000000</td>\n",
       "      <td>1</td>\n",
       "    </tr>\n",
       "    <tr>\n",
       "      <td>4</td>\n",
       "      <td>817.714335</td>\n",
       "      <td>0.000000</td>\n",
       "      <td>678.334763</td>\n",
       "      <td>1</td>\n",
       "    </tr>\n",
       "  </tbody>\n",
       "</table>\n",
       "</div>"
      ],
      "text/plain": [
       "       BALANCE  CASH_ADVANCE     PAYMENTS  labels\n",
       "0    40.900749      0.000000   201.802084       1\n",
       "1  3202.467416   6442.945483  4103.032597       0\n",
       "2  2495.148862      0.000000   622.066742       1\n",
       "3  1666.670542    205.788017     0.000000       1\n",
       "4   817.714335      0.000000   678.334763       1"
      ]
     },
     "execution_count": 170,
     "metadata": {},
     "output_type": "execute_result"
    }
   ],
   "source": [
    "new_data.head()"
   ]
  },
  {
   "cell_type": "markdown",
   "metadata": {
    "colab_type": "text",
    "id": "8jGkTtvdbGeO"
   },
   "source": [
    "### Plot Centers and labels"
   ]
  },
  {
   "cell_type": "code",
   "execution_count": 171,
   "metadata": {
    "colab": {
     "base_uri": "https://localhost:8080/",
     "height": 621
    },
    "colab_type": "code",
    "id": "ptvhMiDHZSX2",
    "outputId": "98357a48-1dbf-465a-983c-2f35dba1fc78"
   },
   "outputs": [
    {
     "data": {
      "text/plain": [
       "<matplotlib.collections.PathCollection at 0x23ad7b5b248>"
      ]
     },
     "execution_count": 171,
     "metadata": {},
     "output_type": "execute_result"
    },
    {
     "data": {
      "image/png": "[encoded data removed]",
      "text/plain": [
       "<Figure size 1440x720 with 2 Axes>"
      ]
     },
     "metadata": {
      "needs_background": "light"
     },
     "output_type": "display_data"
    }
   ],
   "source": [
    "# Plot data points and colorize based on label\n",
    "new_data.plot.scatter(x='BALANCE', \n",
    "                      y='PAYMENTS', \n",
    "                      c='labels', \n",
    "                      cmap='viridis',\n",
    "                      figsize=(20, 10))\n",
    "\n",
    "# Get cluster centers\n",
    "centers = km.cluster_centers_\n",
    "plt.scatter(centers[:,0],centers[:,1], s=200, color='black')"
   ]
  },
  {
   "cell_type": "markdown",
   "metadata": {
    "colab_type": "text",
    "id": "I-FwRETgaoKT"
   },
   "source": [
    "# Deep Dive to each cluster"
   ]
  },
  {
   "cell_type": "code",
   "execution_count": 172,
   "metadata": {
    "colab": {
     "base_uri": "https://localhost:8080/",
     "height": 297
    },
    "colab_type": "code",
    "id": "DjCzSJYLc6Kv",
    "outputId": "80f83105-2ebf-49df-cc0e-80b84cad97da"
   },
   "outputs": [
    {
     "data": {
      "text/html": [
       "<div>\n",
       "<style scoped>\n",
       "    .dataframe tbody tr th:only-of-type {\n",
       "        vertical-align: middle;\n",
       "    }\n",
       "\n",
       "    .dataframe tbody tr th {\n",
       "        vertical-align: top;\n",
       "    }\n",
       "\n",
       "    .dataframe thead th {\n",
       "        text-align: right;\n",
       "    }\n",
       "</style>\n",
       "<table border=\"1\" class=\"dataframe\">\n",
       "  <thead>\n",
       "    <tr style=\"text-align: right;\">\n",
       "      <th></th>\n",
       "      <th>BALANCE</th>\n",
       "      <th>CASH_ADVANCE</th>\n",
       "      <th>PAYMENTS</th>\n",
       "      <th>labels</th>\n",
       "    </tr>\n",
       "  </thead>\n",
       "  <tbody>\n",
       "    <tr>\n",
       "      <td>count</td>\n",
       "      <td>670.000000</td>\n",
       "      <td>670.000000</td>\n",
       "      <td>670.000000</td>\n",
       "      <td>670.0</td>\n",
       "    </tr>\n",
       "    <tr>\n",
       "      <td>mean</td>\n",
       "      <td>2459.453776</td>\n",
       "      <td>2858.756850</td>\n",
       "      <td>6888.259976</td>\n",
       "      <td>0.0</td>\n",
       "    </tr>\n",
       "    <tr>\n",
       "      <td>std</td>\n",
       "      <td>2040.333953</td>\n",
       "      <td>3048.050808</td>\n",
       "      <td>2538.249632</td>\n",
       "      <td>0.0</td>\n",
       "    </tr>\n",
       "    <tr>\n",
       "      <td>min</td>\n",
       "      <td>0.000000</td>\n",
       "      <td>0.000000</td>\n",
       "      <td>2986.360610</td>\n",
       "      <td>0.0</td>\n",
       "    </tr>\n",
       "    <tr>\n",
       "      <td>25%</td>\n",
       "      <td>904.573849</td>\n",
       "      <td>0.000000</td>\n",
       "      <td>4978.822907</td>\n",
       "      <td>0.0</td>\n",
       "    </tr>\n",
       "    <tr>\n",
       "      <td>50%</td>\n",
       "      <td>1993.964220</td>\n",
       "      <td>2246.586305</td>\n",
       "      <td>6173.493747</td>\n",
       "      <td>0.0</td>\n",
       "    </tr>\n",
       "    <tr>\n",
       "      <td>75%</td>\n",
       "      <td>3422.008710</td>\n",
       "      <td>4468.891582</td>\n",
       "      <td>8247.689004</td>\n",
       "      <td>0.0</td>\n",
       "    </tr>\n",
       "    <tr>\n",
       "      <td>max</td>\n",
       "      <td>15244.748650</td>\n",
       "      <td>14926.790590</td>\n",
       "      <td>17194.627560</td>\n",
       "      <td>0.0</td>\n",
       "    </tr>\n",
       "  </tbody>\n",
       "</table>\n",
       "</div>"
      ],
      "text/plain": [
       "            BALANCE  CASH_ADVANCE      PAYMENTS  labels\n",
       "count    670.000000    670.000000    670.000000   670.0\n",
       "mean    2459.453776   2858.756850   6888.259976     0.0\n",
       "std     2040.333953   3048.050808   2538.249632     0.0\n",
       "min        0.000000      0.000000   2986.360610     0.0\n",
       "25%      904.573849      0.000000   4978.822907     0.0\n",
       "50%     1993.964220   2246.586305   6173.493747     0.0\n",
       "75%     3422.008710   4468.891582   8247.689004     0.0\n",
       "max    15244.748650  14926.790590  17194.627560     0.0"
      ]
     },
     "execution_count": 172,
     "metadata": {},
     "output_type": "execute_result"
    }
   ],
   "source": [
    "# Cluster 0\n",
    "cluster_0 = new_data[new_data['labels']==0]\n",
    "cluster_0.describe()"
   ]
  },
  {
   "cell_type": "markdown",
   "metadata": {
    "colab_type": "text",
    "id": "hnXVR-YRdgss"
   },
   "source": [
    "Cluster 0: Medium Balance, Medium Cash Advance & Medium Payments"
   ]
  },
  {
   "cell_type": "code",
   "execution_count": 173,
   "metadata": {
    "colab": {
     "base_uri": "https://localhost:8080/",
     "height": 297
    },
    "colab_type": "code",
    "id": "GjJcGRJebtu6",
    "outputId": "563599e4-4b49-42ea-aa1a-38ea870328d4"
   },
   "outputs": [
    {
     "data": {
      "text/html": [
       "<div>\n",
       "<style scoped>\n",
       "    .dataframe tbody tr th:only-of-type {\n",
       "        vertical-align: middle;\n",
       "    }\n",
       "\n",
       "    .dataframe tbody tr th {\n",
       "        vertical-align: top;\n",
       "    }\n",
       "\n",
       "    .dataframe thead th {\n",
       "        text-align: right;\n",
       "    }\n",
       "</style>\n",
       "<table border=\"1\" class=\"dataframe\">\n",
       "  <thead>\n",
       "    <tr style=\"text-align: right;\">\n",
       "      <th></th>\n",
       "      <th>BALANCE</th>\n",
       "      <th>CASH_ADVANCE</th>\n",
       "      <th>PAYMENTS</th>\n",
       "      <th>labels</th>\n",
       "    </tr>\n",
       "  </thead>\n",
       "  <tbody>\n",
       "    <tr>\n",
       "      <td>count</td>\n",
       "      <td>7052.000000</td>\n",
       "      <td>7052.000000</td>\n",
       "      <td>7052.000000</td>\n",
       "      <td>7052.0</td>\n",
       "    </tr>\n",
       "    <tr>\n",
       "      <td>mean</td>\n",
       "      <td>805.367393</td>\n",
       "      <td>371.433728</td>\n",
       "      <td>976.347677</td>\n",
       "      <td>1.0</td>\n",
       "    </tr>\n",
       "    <tr>\n",
       "      <td>std</td>\n",
       "      <td>864.840136</td>\n",
       "      <td>715.289970</td>\n",
       "      <td>950.356310</td>\n",
       "      <td>0.0</td>\n",
       "    </tr>\n",
       "    <tr>\n",
       "      <td>min</td>\n",
       "      <td>0.000000</td>\n",
       "      <td>0.000000</td>\n",
       "      <td>0.000000</td>\n",
       "      <td>1.0</td>\n",
       "    </tr>\n",
       "    <tr>\n",
       "      <td>25%</td>\n",
       "      <td>75.756516</td>\n",
       "      <td>0.000000</td>\n",
       "      <td>312.607854</td>\n",
       "      <td>1.0</td>\n",
       "    </tr>\n",
       "    <tr>\n",
       "      <td>50%</td>\n",
       "      <td>473.743561</td>\n",
       "      <td>0.000000</td>\n",
       "      <td>630.895898</td>\n",
       "      <td>1.0</td>\n",
       "    </tr>\n",
       "    <tr>\n",
       "      <td>75%</td>\n",
       "      <td>1296.980000</td>\n",
       "      <td>403.313085</td>\n",
       "      <td>1331.405721</td>\n",
       "      <td>1.0</td>\n",
       "    </tr>\n",
       "    <tr>\n",
       "      <td>max</td>\n",
       "      <td>4104.710798</td>\n",
       "      <td>6479.639793</td>\n",
       "      <td>4924.941312</td>\n",
       "      <td>1.0</td>\n",
       "    </tr>\n",
       "  </tbody>\n",
       "</table>\n",
       "</div>"
      ],
      "text/plain": [
       "           BALANCE  CASH_ADVANCE     PAYMENTS  labels\n",
       "count  7052.000000   7052.000000  7052.000000  7052.0\n",
       "mean    805.367393    371.433728   976.347677     1.0\n",
       "std     864.840136    715.289970   950.356310     0.0\n",
       "min       0.000000      0.000000     0.000000     1.0\n",
       "25%      75.756516      0.000000   312.607854     1.0\n",
       "50%     473.743561      0.000000   630.895898     1.0\n",
       "75%    1296.980000    403.313085  1331.405721     1.0\n",
       "max    4104.710798   6479.639793  4924.941312     1.0"
      ]
     },
     "execution_count": 173,
     "metadata": {},
     "output_type": "execute_result"
    }
   ],
   "source": [
    "# Cluster 1 \n",
    "cluster_1 = new_data[new_data['labels']==1]\n",
    "cluster_1.describe()"
   ]
  },
  {
   "cell_type": "markdown",
   "metadata": {
    "colab_type": "text",
    "id": "TAu_kbMvdl0C"
   },
   "source": [
    "Cluster 1: Low Balance, Low Cash Advance & Low Payments"
   ]
  },
  {
   "cell_type": "code",
   "execution_count": 174,
   "metadata": {
    "colab": {
     "base_uri": "https://localhost:8080/",
     "height": 297
    },
    "colab_type": "code",
    "id": "H5ssZ-z9bvLZ",
    "outputId": "c64aee2d-3744-4341-8c05-7637ab23920c"
   },
   "outputs": [
    {
     "data": {
      "text/html": [
       "<div>\n",
       "<style scoped>\n",
       "    .dataframe tbody tr th:only-of-type {\n",
       "        vertical-align: middle;\n",
       "    }\n",
       "\n",
       "    .dataframe tbody tr th {\n",
       "        vertical-align: top;\n",
       "    }\n",
       "\n",
       "    .dataframe thead th {\n",
       "        text-align: right;\n",
       "    }\n",
       "</style>\n",
       "<table border=\"1\" class=\"dataframe\">\n",
       "  <thead>\n",
       "    <tr style=\"text-align: right;\">\n",
       "      <th></th>\n",
       "      <th>BALANCE</th>\n",
       "      <th>CASH_ADVANCE</th>\n",
       "      <th>PAYMENTS</th>\n",
       "      <th>labels</th>\n",
       "    </tr>\n",
       "  </thead>\n",
       "  <tbody>\n",
       "    <tr>\n",
       "      <td>count</td>\n",
       "      <td>88.000000</td>\n",
       "      <td>88.000000</td>\n",
       "      <td>88.000000</td>\n",
       "      <td>88.0</td>\n",
       "    </tr>\n",
       "    <tr>\n",
       "      <td>mean</td>\n",
       "      <td>5427.126378</td>\n",
       "      <td>9491.950774</td>\n",
       "      <td>21659.188579</td>\n",
       "      <td>2.0</td>\n",
       "    </tr>\n",
       "    <tr>\n",
       "      <td>std</td>\n",
       "      <td>4019.964181</td>\n",
       "      <td>8989.899638</td>\n",
       "      <td>8346.256074</td>\n",
       "      <td>0.0</td>\n",
       "    </tr>\n",
       "    <tr>\n",
       "      <td>min</td>\n",
       "      <td>4.382924</td>\n",
       "      <td>0.000000</td>\n",
       "      <td>10664.658660</td>\n",
       "      <td>2.0</td>\n",
       "    </tr>\n",
       "    <tr>\n",
       "      <td>25%</td>\n",
       "      <td>2096.835682</td>\n",
       "      <td>67.523405</td>\n",
       "      <td>15838.944987</td>\n",
       "      <td>2.0</td>\n",
       "    </tr>\n",
       "    <tr>\n",
       "      <td>50%</td>\n",
       "      <td>4892.213660</td>\n",
       "      <td>8411.466034</td>\n",
       "      <td>20096.540445</td>\n",
       "      <td>2.0</td>\n",
       "    </tr>\n",
       "    <tr>\n",
       "      <td>75%</td>\n",
       "      <td>7892.014097</td>\n",
       "      <td>14942.829282</td>\n",
       "      <td>26008.267925</td>\n",
       "      <td>2.0</td>\n",
       "    </tr>\n",
       "    <tr>\n",
       "      <td>max</td>\n",
       "      <td>19043.138560</td>\n",
       "      <td>47137.211760</td>\n",
       "      <td>50721.483360</td>\n",
       "      <td>2.0</td>\n",
       "    </tr>\n",
       "  </tbody>\n",
       "</table>\n",
       "</div>"
      ],
      "text/plain": [
       "            BALANCE  CASH_ADVANCE      PAYMENTS  labels\n",
       "count     88.000000     88.000000     88.000000    88.0\n",
       "mean    5427.126378   9491.950774  21659.188579     2.0\n",
       "std     4019.964181   8989.899638   8346.256074     0.0\n",
       "min        4.382924      0.000000  10664.658660     2.0\n",
       "25%     2096.835682     67.523405  15838.944987     2.0\n",
       "50%     4892.213660   8411.466034  20096.540445     2.0\n",
       "75%     7892.014097  14942.829282  26008.267925     2.0\n",
       "max    19043.138560  47137.211760  50721.483360     2.0"
      ]
     },
     "execution_count": 174,
     "metadata": {},
     "output_type": "execute_result"
    }
   ],
   "source": [
    "# Cluster 2\n",
    "cluster_2 = new_data[new_data['labels']==2]\n",
    "cluster_2.describe()"
   ]
  },
  {
   "cell_type": "markdown",
   "metadata": {
    "colab_type": "text",
    "id": "_5ypez6tdxis"
   },
   "source": [
    "Cluster 2: High Balance, High Cash Advance & High Payments"
   ]
  },
  {
   "cell_type": "code",
   "execution_count": 175,
   "metadata": {
    "colab": {
     "base_uri": "https://localhost:8080/",
     "height": 297
    },
    "colab_type": "code",
    "id": "-N6iG4cQctfi",
    "outputId": "a5948f7a-29c2-43c7-f7be-96d59f9f7fa4"
   },
   "outputs": [
    {
     "data": {
      "text/html": [
       "<div>\n",
       "<style scoped>\n",
       "    .dataframe tbody tr th:only-of-type {\n",
       "        vertical-align: middle;\n",
       "    }\n",
       "\n",
       "    .dataframe tbody tr th {\n",
       "        vertical-align: top;\n",
       "    }\n",
       "\n",
       "    .dataframe thead th {\n",
       "        text-align: right;\n",
       "    }\n",
       "</style>\n",
       "<table border=\"1\" class=\"dataframe\">\n",
       "  <thead>\n",
       "    <tr style=\"text-align: right;\">\n",
       "      <th></th>\n",
       "      <th>BALANCE</th>\n",
       "      <th>CASH_ADVANCE</th>\n",
       "      <th>PAYMENTS</th>\n",
       "      <th>labels</th>\n",
       "    </tr>\n",
       "  </thead>\n",
       "  <tbody>\n",
       "    <tr>\n",
       "      <td>count</td>\n",
       "      <td>1140.000000</td>\n",
       "      <td>1140.000000</td>\n",
       "      <td>1140.000000</td>\n",
       "      <td>1140.0</td>\n",
       "    </tr>\n",
       "    <tr>\n",
       "      <td>mean</td>\n",
       "      <td>5436.120789</td>\n",
       "      <td>2974.462324</td>\n",
       "      <td>1846.746384</td>\n",
       "      <td>3.0</td>\n",
       "    </tr>\n",
       "    <tr>\n",
       "      <td>std</td>\n",
       "      <td>2353.293840</td>\n",
       "      <td>2410.299680</td>\n",
       "      <td>1134.875302</td>\n",
       "      <td>0.0</td>\n",
       "    </tr>\n",
       "    <tr>\n",
       "      <td>min</td>\n",
       "      <td>166.295463</td>\n",
       "      <td>0.000000</td>\n",
       "      <td>0.000000</td>\n",
       "      <td>3.0</td>\n",
       "    </tr>\n",
       "    <tr>\n",
       "      <td>25%</td>\n",
       "      <td>3856.765310</td>\n",
       "      <td>1074.229078</td>\n",
       "      <td>1091.690547</td>\n",
       "      <td>3.0</td>\n",
       "    </tr>\n",
       "    <tr>\n",
       "      <td>50%</td>\n",
       "      <td>5008.327347</td>\n",
       "      <td>2711.378435</td>\n",
       "      <td>1553.152271</td>\n",
       "      <td>3.0</td>\n",
       "    </tr>\n",
       "    <tr>\n",
       "      <td>75%</td>\n",
       "      <td>6537.813566</td>\n",
       "      <td>4257.386513</td>\n",
       "      <td>2335.774822</td>\n",
       "      <td>3.0</td>\n",
       "    </tr>\n",
       "    <tr>\n",
       "      <td>max</td>\n",
       "      <td>18495.558550</td>\n",
       "      <td>14827.307160</td>\n",
       "      <td>7932.774020</td>\n",
       "      <td>3.0</td>\n",
       "    </tr>\n",
       "  </tbody>\n",
       "</table>\n",
       "</div>"
      ],
      "text/plain": [
       "            BALANCE  CASH_ADVANCE     PAYMENTS  labels\n",
       "count   1140.000000   1140.000000  1140.000000  1140.0\n",
       "mean    5436.120789   2974.462324  1846.746384     3.0\n",
       "std     2353.293840   2410.299680  1134.875302     0.0\n",
       "min      166.295463      0.000000     0.000000     3.0\n",
       "25%     3856.765310   1074.229078  1091.690547     3.0\n",
       "50%     5008.327347   2711.378435  1553.152271     3.0\n",
       "75%     6537.813566   4257.386513  2335.774822     3.0\n",
       "max    18495.558550  14827.307160  7932.774020     3.0"
      ]
     },
     "execution_count": 175,
     "metadata": {},
     "output_type": "execute_result"
    }
   ],
   "source": [
    "# Cluster 3\n",
    "cluster_3 = new_data[new_data['labels']==3]\n",
    "cluster_3.describe()"
   ]
  },
  {
   "cell_type": "markdown",
   "metadata": {
    "colab_type": "text",
    "id": "6AudyQ7Pd1TP"
   },
   "source": [
    "Cluster 3: High Balance, Medium Cash Advance & Low Payments"
   ]
  }
 ],
 "metadata": {
  "colab": {
   "collapsed_sections": [],
   "name": "IntroClustering.ipynb",
   "provenance": [],
   "toc_visible": true
  },
  "kernelspec": {
   "display_name": "Python 3",
   "language": "python",
   "name": "python3"
  },
  "language_info": {
   "codemirror_mode": {
    "name": "ipython",
    "version": 3
   },
   "file_extension": ".py",
   "mimetype": "text/x-python",
   "name": "python",
   "nbconvert_exporter": "python",
   "pygments_lexer": "ipython3",
   "version": "3.7.4"
  }
 },
 "nbformat": 4,
 "nbformat_minor": 1
}
